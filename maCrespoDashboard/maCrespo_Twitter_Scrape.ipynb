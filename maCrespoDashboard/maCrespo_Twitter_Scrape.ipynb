{
  "nbformat": 4,
  "nbformat_minor": 0,
  "metadata": {
    "colab": {
      "name": "maCrespo Twitter Scrape.ipynb",
      "provenance": [],
      "collapsed_sections": [],
      "toc_visible": true
    },
    "kernelspec": {
      "name": "python3",
      "display_name": "Python 3"
    }
  },
  "cells": [
    {
      "cell_type": "markdown",
      "metadata": {
        "id": "wl1VEWSp5vf0",
        "colab_type": "text"
      },
      "source": [
        "# Tweet Scraping\n"
      ]
    },
    {
      "cell_type": "markdown",
      "metadata": {
        "id": "0X-oEsi2ZJQr",
        "colab_type": "text"
      },
      "source": [
        "CoLab notebook to scrape twitter for Mariana Crespo's senior thesis project.\n",
        "* Author: [Owen Bezick](https://github.com/owbezick)"
      ]
    },
    {
      "cell_type": "markdown",
      "metadata": {
        "id": "gCyuzLPgZQSk",
        "colab_type": "text"
      },
      "source": [
        "Notes:\n",
        " - Press the 'play' button to run a line of code\n",
        " - '%%capture' above a chunck of code hides the output logs\n",
        " - '!' preceeding a line of code means that this line is a command line call"
      ]
    },
    {
      "cell_type": "markdown",
      "metadata": {
        "id": "o_uQs9t65JGq",
        "colab_type": "text"
      },
      "source": [
        "##Install [twitterscraper](https://github.com/taspinar/twitterscraper)\n",
        "**Must be done every time**"
      ]
    },
    {
      "cell_type": "code",
      "metadata": {
        "id": "qEGRXlYy5QXV",
        "colab_type": "code",
        "colab": {}
      },
      "source": [
        "%%capture\n",
        "!pip install twitterscraper"
      ],
      "execution_count": 0,
      "outputs": []
    },
    {
      "cell_type": "markdown",
      "metadata": {
        "id": "WsE33Skv6VyO",
        "colab_type": "text"
      },
      "source": [
        "##Run Queries\n"
      ]
    },
    {
      "cell_type": "markdown",
      "metadata": {
        "id": "C79eUFDH_6DC",
        "colab_type": "text"
      },
      "source": [
        "### Nike Twitter Queries"
      ]
    },
    {
      "cell_type": "markdown",
      "metadata": {
        "id": "oH-jTP8P9Ex1",
        "colab_type": "text"
      },
      "source": [
        "-bd 2017-08-27 -ed 2017-09-10"
      ]
    },
    {
      "cell_type": "markdown",
      "metadata": {
        "id": "zDDmT01nEasH",
        "colab_type": "text"
      },
      "source": [
        "####Base Line Queries"
      ]
    },
    {
      "cell_type": "markdown",
      "metadata": {
        "id": "_YHS1oqCS6cx",
        "colab_type": "text"
      },
      "source": [
        "Black Lives Matter"
      ]
    },
    {
      "cell_type": "code",
      "metadata": {
        "id": "FggpF4yhS-Fi",
        "colab_type": "code",
        "colab": {}
      },
      "source": [
        "%%capture\n",
        "!twitterscraper \"Black Lives Matter\" -bd 2018-08-27 -ed 2018-09-10 -o blackLivesMatter.JSON "
      ],
      "execution_count": 0,
      "outputs": []
    },
    {
      "cell_type": "markdown",
      "metadata": {
        "id": "wzVnUCZpTBEx",
        "colab_type": "text"
      },
      "source": [
        "Nike\n"
      ]
    },
    {
      "cell_type": "code",
      "metadata": {
        "id": "OmJzf8ChTDr7",
        "colab_type": "code",
        "colab": {}
      },
      "source": [
        "%%capture\n",
        "!twitterscraper \"Nike\" -bd 2018-08-27 -ed 2018-09-10 -o nike.JSON"
      ],
      "execution_count": 0,
      "outputs": []
    },
    {
      "cell_type": "markdown",
      "metadata": {
        "id": "WfwIdx-zTbJs",
        "colab_type": "text"
      },
      "source": [
        "Colin Kaepernick"
      ]
    },
    {
      "cell_type": "code",
      "metadata": {
        "id": "3AM7qn83DH18",
        "colab_type": "code",
        "colab": {}
      },
      "source": [
        "%%capture\n",
        "!twitterscraper \"Colin Kaepernick\" -bd 2018-08-27 -ed 2018-09-10 -o colinKaepernick.JSON"
      ],
      "execution_count": 0,
      "outputs": []
    },
    {
      "cell_type": "markdown",
      "metadata": {
        "id": "BbPjjXZhXYcg",
        "colab_type": "text"
      },
      "source": [
        "Dream Crazy"
      ]
    },
    {
      "cell_type": "code",
      "metadata": {
        "id": "yWhdpjyEDg8L",
        "colab_type": "code",
        "colab": {}
      },
      "source": [
        "%%capture\n",
        "!twitterscraper \"Dream Crazy\" -bd 2018-08-27 -ed 2018-09-10 -o dreamCrazy.JSON"
      ],
      "execution_count": 0,
      "outputs": []
    },
    {
      "cell_type": "markdown",
      "metadata": {
        "id": "0d8kcvFiSIx-",
        "colab_type": "text"
      },
      "source": [
        "####Combined Queries"
      ]
    },
    {
      "cell_type": "markdown",
      "metadata": {
        "id": "FcyD4ywZT8Xv",
        "colab_type": "text"
      },
      "source": [
        "Nike and Colin Kaepernick"
      ]
    },
    {
      "cell_type": "code",
      "metadata": {
        "id": "vCSwJUqaT5ce",
        "colab_type": "code",
        "colab": {}
      },
      "source": [
        "%%capture\n",
        "!twitterscraper \"Nike and Colin Kaepernick\" -bd 2018-09-3 -ed 2018-09-10 -o nikeColinKaepernick.JSON "
      ],
      "execution_count": 0,
      "outputs": []
    },
    {
      "cell_type": "markdown",
      "metadata": {
        "id": "8AeNgzCLWPHK",
        "colab_type": "text"
      },
      "source": [
        "Colin Kaepernick and Black Lives Matter"
      ]
    },
    {
      "cell_type": "code",
      "metadata": {
        "id": "MDd1XIRvWOCw",
        "colab_type": "code",
        "colab": {}
      },
      "source": [
        "%%capture\n",
        "!twitterscraper \"Colin Kaepernick and Black Lives Matter\" -bd 2018-09-3 -ed 2018-09-10 -o colinKaepernickBlackLivesMatter.JSON"
      ],
      "execution_count": 0,
      "outputs": []
    },
    {
      "cell_type": "markdown",
      "metadata": {
        "id": "s0MfpvUa0Ytl",
        "colab_type": "text"
      },
      "source": [
        "Nike and Black Lives Matter"
      ]
    },
    {
      "cell_type": "code",
      "metadata": {
        "id": "BYlgqwQa0DW5",
        "colab_type": "code",
        "colab": {}
      },
      "source": [
        "%%capture\n",
        "!twitterscraper \"Nike and Black Lives Matter\" -bd 2018-08-27 -ed 2018-09-10 -o nikeBlackLivesMatter.JSON"
      ],
      "execution_count": 0,
      "outputs": []
    },
    {
      "cell_type": "markdown",
      "metadata": {
        "id": "ecE3AVp74Q9-",
        "colab_type": "text"
      },
      "source": [
        "###Pepsi Queries\n"
      ]
    },
    {
      "cell_type": "markdown",
      "metadata": {
        "id": "pUsiAT9D9HHD",
        "colab_type": "text"
      },
      "source": [
        "-bd 2017-03-28 -ed 2017-04-11"
      ]
    },
    {
      "cell_type": "markdown",
      "metadata": {
        "id": "sZ8wKIiq4VAA",
        "colab_type": "text"
      },
      "source": [
        "####Base Line Queries"
      ]
    },
    {
      "cell_type": "markdown",
      "metadata": {
        "id": "jjc0nc8U4Zng",
        "colab_type": "text"
      },
      "source": [
        "Black Lives Matter"
      ]
    },
    {
      "cell_type": "code",
      "metadata": {
        "id": "1W1PFv844prR",
        "colab_type": "code",
        "colab": {}
      },
      "source": [
        "%%capture\n",
        "!twitterscraper \"Black Lives Matter\" -bd 2017-03-28 -ed 2017-04-11 -o blackLivesMatter.JSON"
      ],
      "execution_count": 0,
      "outputs": []
    },
    {
      "cell_type": "markdown",
      "metadata": {
        "id": "DIYe0sQR4mYu",
        "colab_type": "text"
      },
      "source": [
        "Live For Now\n"
      ]
    },
    {
      "cell_type": "code",
      "metadata": {
        "id": "g256BN_u4wXf",
        "colab_type": "code",
        "colab": {}
      },
      "source": [
        "%%capture\n",
        "!twitterscraper \"Live For Now\" -bd 2017-03-28 -ed 2017-04-11 -o liveForNow.JSON"
      ],
      "execution_count": 0,
      "outputs": []
    },
    {
      "cell_type": "markdown",
      "metadata": {
        "id": "ZVjR52jF4mOK",
        "colab_type": "text"
      },
      "source": [
        "Kendall Jenner"
      ]
    },
    {
      "cell_type": "code",
      "metadata": {
        "id": "w8JikpWF5LZw",
        "colab_type": "code",
        "colab": {}
      },
      "source": [
        "%%capture\n",
        "!twitterscraper \"Kendall Jenner\" -bd 2017-03-28 -ed 2017-04-11 -o kendallJenner.JSON"
      ],
      "execution_count": 0,
      "outputs": []
    },
    {
      "cell_type": "markdown",
      "metadata": {
        "id": "20LW1-jryvfJ",
        "colab_type": "text"
      },
      "source": [
        "Pepsi"
      ]
    },
    {
      "cell_type": "code",
      "metadata": {
        "id": "lsyWEe0vyszE",
        "colab_type": "code",
        "colab": {}
      },
      "source": [
        "%%capture\n",
        "!twitterscraper \"Pepsi\" -bd 2017-03-28 -ed 2017-04-11 -o pepsi.JSON"
      ],
      "execution_count": 0,
      "outputs": []
    },
    {
      "cell_type": "markdown",
      "metadata": {
        "id": "1zTKXZqN59sn",
        "colab_type": "text"
      },
      "source": [
        "####Combined Queries"
      ]
    },
    {
      "cell_type": "markdown",
      "metadata": {
        "id": "0TLApQF85_yl",
        "colab_type": "text"
      },
      "source": [
        "Pepsi and Kendall Jenner"
      ]
    },
    {
      "cell_type": "code",
      "metadata": {
        "id": "c9Mp8ogm7Wre",
        "colab_type": "code",
        "colab": {}
      },
      "source": [
        "%%capture\n",
        "!twitterscraper \"Pepsi and Kendall Jenner\" -bd 2017-04-03 -ed 2017-04-11 -o pepsiKendallJenner.JSON"
      ],
      "execution_count": 0,
      "outputs": []
    },
    {
      "cell_type": "markdown",
      "metadata": {
        "id": "vPd8iOdg6Fna",
        "colab_type": "text"
      },
      "source": [
        "Pepsi and Black Lives Matter"
      ]
    },
    {
      "cell_type": "code",
      "metadata": {
        "id": "sOou2ItM7tST",
        "colab_type": "code",
        "colab": {}
      },
      "source": [
        "%%capture\n",
        "!twitterscraper \"Pepsi and Black Lives Matter\" -bd 2017-04-03 -ed 2017-04-11 -o pepsiBlackLivesMatter.JSON"
      ],
      "execution_count": 0,
      "outputs": []
    },
    {
      "cell_type": "markdown",
      "metadata": {
        "id": "kY6bm2dAz0RF",
        "colab_type": "text"
      },
      "source": [
        "Pepsi and Live For Now"
      ]
    },
    {
      "cell_type": "code",
      "metadata": {
        "id": "kIC7n4zmz00Z",
        "colab_type": "code",
        "colab": {}
      },
      "source": [
        "%%capture\n",
        "!twitterscraper \"Pepsi and Live For Now\" -bd 2017-04-03 -ed 2017-04-11 -o pepsiLiveForNow.JSON"
      ],
      "execution_count": 0,
      "outputs": []
    },
    {
      "cell_type": "markdown",
      "metadata": {
        "id": "puqNfLmp8nzJ",
        "colab_type": "text"
      },
      "source": [
        "Kendall Jenner and Black Lives Matter"
      ]
    },
    {
      "cell_type": "code",
      "metadata": {
        "id": "sBJOLGcT8oNz",
        "colab_type": "code",
        "colab": {}
      },
      "source": [
        "%%capture\n",
        "!twitterscraper \"Kendall Jenner and Black Lives Matter\" -bd 2017-04-03 -ed 2017-04-11 -o kendallJennerBlackLivesMatter.JSON"
      ],
      "execution_count": 0,
      "outputs": []
    },
    {
      "cell_type": "markdown",
      "metadata": {
        "id": "1GO65e6M-iHO",
        "colab_type": "text"
      },
      "source": [
        "Kendall Jenner and Live For Now"
      ]
    },
    {
      "cell_type": "code",
      "metadata": {
        "id": "weJKB0Wd-sNc",
        "colab_type": "code",
        "colab": {}
      },
      "source": [
        "%%capture\n",
        "!twitterscraper \"Live for Now and Kendall Jenner\" -bd 2017-04-03 -ed 2017-04-11 -o liveForNowKendallJenner.JSON"
      ],
      "execution_count": 0,
      "outputs": []
    }
  ]
}